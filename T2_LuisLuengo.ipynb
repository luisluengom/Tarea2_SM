{
 "cells": [
  {
   "cell_type": "markdown",
   "metadata": {},
   "source": [
    "## Python hizo que la perogramacion tuviera nueva audiencia\n",
    "\n",
    "Guido van Rossum ,programador holandes, hizo de navidad un pryecto de navidad. El queria hacer un lenguaje nuevo para programar. Algo que fuera mucho mas facil de leer. \n",
    "\n",
    "Un prgograma el cual por cada linea no tuviera problemas sino que fuera facil de usar a travez de la identacion. Tambien lo creo con el fin de que los usuarios pudieran crear sus propias paqueterias con el proposito que ellos quisiera, y que estos se pudieran usar para nuevos programas. \n",
    "\n",
    "Lo que el buscaba en el nombre era algo corto, unico y misterioso para el nombre por lo que le puso Python en base a Monty Python, un grupo de comedia Britanica. El lugar de la paqueteria se llamaria mas tarde Cheese Shop. \n",
    "\n",
    "Despues de 30 años de su invecion en Navidad, Van Rossum hizo que el personaje de Monty Python se convirtiera en el Mesias en la pelicula de \"Life of Brian\". EL menciona que no esperaba que su lenguaje lo usaran tantas personas. Pero en los ultimos 12 meses los usuarios de Google en America habian buscado mas seguido Python que Kim Kardashian. Desde en 2"
   ]
  }
 ],
 "metadata": {
  "kernelspec": {
   "display_name": "Python 3",
   "language": "python",
   "name": "python3"
  },
  "language_info": {
   "codemirror_mode": {
    "name": "ipython",
    "version": 3
   },
   "file_extension": ".py",
   "mimetype": "text/x-python",
   "name": "python",
   "nbconvert_exporter": "python",
   "pygments_lexer": "ipython3",
   "version": "3.8.3"
  }
 },
 "nbformat": 4,
 "nbformat_minor": 4
}
