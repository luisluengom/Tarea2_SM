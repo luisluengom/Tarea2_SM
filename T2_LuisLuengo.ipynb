{
 "cells": [
  {
   "cell_type": "markdown",
   "metadata": {},
   "source": [
    "## Python hizo que la perogramacion tuviera nueva audiencia\n",
    "\n",
    "Guido van Rossum ,programador holandes, hizo de navidad un pryecto de navidad. El queria hacer un lenguaje nuevo para programar. Algo que fuera mucho mas facil de leer. \n",
    "\n",
    "Un prgograma el cual por cada linea no tuviera problemas sino que fuera facil de usar a travez de la identacion. Tambien lo creo con el fin de que los usuarios pudieran crear sus propias paqueterias con el proposito que ellos quisiera, y que estos se pudieran usar para nuevos programas. \n",
    "\n",
    "Lo que el buscaba en el nombre era algo corto, unico y misterioso para el nombre por lo que le puso Python en base a Monty Python, un grupo de comedia Britanica. El lugar de la paqueteria se llamaria mas tarde Cheese Shop. \n",
    "\n",
    "Despues de 30 años de su invecion en Navidad, Van Rossum hizo que el personaje de Monty Python se convirtiera en el Mesias en la pelicula de \"Life of Brian\". EL menciona que no esperaba que su lenguaje lo usaran tantas personas. Pero en los ultimos 12 meses los usuarios de Google en America habian buscado mas seguido Python que Kim Kardashian. Desde en 2010 ha ascendido demasiado Python y ha hecho a muchos otros lenguajes de programacion disminuir o oncluso desaparecer. "
   ]
  },
  {
   "cell_type": "markdown",
   "metadata": {},
   "source": [
    "## El lenguaje del año en programacion? Python ha aparecido en el ranking\n",
    "\n",
    "Python esta entre los 3 lenguajes mas populares de programacion, teniendo el ascenso mas grande en la base de datos de Tiobe´s. Python gana 3.62%  mas usuarios cada año, ganandole a Visual Basic y  Java. python creado por un holandes llamado Guido van Rossum en el 1989. \n",
    "\n",
    "Python entro en el top 3 con mayor popularidad de Tiobe´s. gracias al uso que se le puede dar ha estado incrementando su publico. Tiobe´s menciona que es el primer lenguaje de programacion que se enseña en las universidad y al mismo tiempo es usado para analisis estadisitco, machine learning, codigo, paginas web y computacion cientifica. \n",
    "\n",
    "Es el lenguaje mas famoso entre hackers. Debido a la syntaxis que usa, su modo facil de aprendizaje en linea y la abundancia de librerias. \n",
    "\n",
    "Cabe mencionar que la version Python 2 se dejo de actualizar en enero del 2020. Por lo que todos los proyectos necesitaran hacerse en Python 3. \n",
    "\n",
    "otros programas que ahn sido significativos tambien son MATLAB y kotlin los cuales han ascendido bastante. Al mismo tiempo tambien se incluye Rust, Julia  y Microsoft-backed TypeScript. Los que han descendido son Ruby, Erlang y Alice. \n",
    "Al mismo tiempo Tiobe pronostica que Kotlin entrara entre los 20 lenguajes mas populares este año, el cual es una apuesta interesante para los programadores populares de Android.  Los contribuidores de Kotlin que sdon hosts en GitHub se han duplicado en el 2018. Siendo el lenguaje que mas crece en este sitio. \n",
    "\n",
    "Los 20 lenguajes mas usados desde enero del 2019 son Java, C, Python, C++, Visual Basic .NET, JavaScript, C#, PHP, SQL, Objective-C, MATLAB, R, Perl, Assembly language, Swift, Go, Delphi/Object Pascal, Ruby, PL/SQL, and Visual Basic. "
   ]
  }
 ],
 "metadata": {
  "kernelspec": {
   "display_name": "Python 3",
   "language": "python",
   "name": "python3"
  },
  "language_info": {
   "codemirror_mode": {
    "name": "ipython",
    "version": 3
   },
   "file_extension": ".py",
   "mimetype": "text/x-python",
   "name": "python",
   "nbconvert_exporter": "python",
   "pygments_lexer": "ipython3",
   "version": "3.8.3"
  }
 },
 "nbformat": 4,
 "nbformat_minor": 4
}
